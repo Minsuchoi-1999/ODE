{
 "cells": [
  {
   "cell_type": "markdown",
   "id": "7acf636e",
   "metadata": {},
   "source": [
    "# Assignment 2 - Elementary Differential Equations and Boundary Value Problems\n",
    "\n",
    "한 학기 동안 배운 것을 Programming하기 위해 ODE Calculator를 직접 구현해보겠습니다.\n",
    "\n",
    "전 Assignment에서 선형대수를 오픈 소스없이 직접 구현했기때문에, 이번 Assignment에서는 편의를 위해 numpy 및 여러 오픈 소스를 이용해서 구현해보겠습니다"
   ]
  },
  {
   "cell_type": "markdown",
   "id": "5f3be47f",
   "metadata": {},
   "source": [
    "# Chapter 1, Introduction"
   ]
  },
  {
   "cell_type": "markdown",
   "id": "1491b628",
   "metadata": {},
   "source": [
    "## 1.1 Some Basic Mathematical Models"
   ]
  },
  {
   "cell_type": "markdown",
   "id": "cd76d869",
   "metadata": {},
   "source": [
    "이 Chapter에서는 거의 다루는 모델링을 하는 방법에 대해 다루고 있습니다. 구현할 부분은 거의 없기에 Skip하겠습니다."
   ]
  },
  {
   "cell_type": "markdown",
   "id": "f391d766",
   "metadata": {},
   "source": [
    "## 1.2 Solutions of Some Differential Equations"
   ]
  },
  {
   "cell_type": "markdown",
   "id": "2f924d3b",
   "metadata": {},
   "source": [
    "이 Chapter에서는 가장 간단한 미분방정식인 $\\frac{dy}{dt} = ay - b\\$를 다루고 있습니다. \n",
    "\n",
    "이를 sympy를 이용해 대수적 Solution 구하는 프로그램을 구현해보겠습니다."
   ]
  },
  {
   "cell_type": "code",
   "execution_count": 64,
   "id": "61cc1775",
   "metadata": {},
   "outputs": [
    {
     "name": "stdout",
     "output_type": "stream",
     "text": [
      "solution : "
     ]
    },
    {
     "data": {
      "image/png": "[encoded data removed]",
      "text/latex": [
       "$\\displaystyle 1750.0 e^{0.5 t} - 900.0$"
      ],
      "text/plain": [
       "        0.5⋅t        \n",
       "1750.0⋅ℯ      - 900.0"
      ]
     },
     "execution_count": 64,
     "metadata": {},
     "output_type": "execute_result"
    }
   ],
   "source": [
    "import sympy as sy\n",
    "from sympy import init_printing\n",
    "\n",
    "init_printing() \n",
    "\n",
    "t = sy.symbols('t')\n",
    "f = sy.Function('f')\n",
    "y = f(t)\n",
    "eq = sy.Eq(sy.diff(y, t, 1) - 0.5 * y - 450, 0)\n",
    "\n",
    "# 초기 조건: f(0) = 850 (예시로 지정)\n",
    "initial_condition = {f(0): 850}\n",
    "\n",
    "sol = sy.dsolve(eq, y, ics=initial_condition)\n",
    "\n",
    "print(\"solution : \", end = \"\")\n",
    "sol.rhs"
   ]
  },
  {
   "cell_type": "markdown",
   "id": "8c3d98d7",
   "metadata": {},
   "source": [
    "값을 numpy로 바꾸고, matroplotlib를 이용하면 시각화도 가능합니다."
   ]
  },
  {
   "cell_type": "code",
   "execution_count": 65,
   "id": "ee86f732",
   "metadata": {},
   "outputs": [
    {
     "name": "stdout",
     "output_type": "stream",
     "text": [
      "solution : "
     ]
    },
    {
     "data": {
      "text/latex": [
       "$\\displaystyle 1750.0 e^{0.5 t} - 900.0$"
      ],
      "text/plain": [
       "        0.5⋅t        \n",
       "1750.0⋅ℯ      - 900.0"
      ]
     },
     "execution_count": 65,
     "metadata": {},
     "output_type": "execute_result"
    }
   ],
   "source": [
    "import sympy as sy\n",
    "import numpy as np\n",
    "import matplotlib.pyplot as plt\n",
    "from sympy import init_printing\n",
    "\n",
    "init_printing(use_latex='mathjax')\n",
    "\n",
    "t = sy.symbols('t')\n",
    "f = sy.Function('f')\n",
    "y = f(t)\n",
    "eq = sy.Eq(sy.diff(y, t, 1) - 0.5 * y - 450, 0)\n",
    "\n",
    "# 초기 조건: f(0) = 1 (예시로 지정)\n",
    "\n",
    "initial_t = 0\n",
    "initial_y = 850\n",
    "#입력 받는 것으로 변경 가능\n",
    "\n",
    "# 초기 조건: f(1) = 2 (예시로 지정)\n",
    "initial_condition = {f(initial_t): initial_y}\n",
    "\n",
    "sol = sy.dsolve(eq, y, ics=initial_condition)\n",
    "\n",
    "print(\"solution : \", end = \"\")\n",
    "sol.rhs"
   ]
  },
  {
   "cell_type": "code",
   "execution_count": 67,
   "id": "648e336f",
   "metadata": {},
   "outputs": [
    {
     "data": {
      "image/png": "[encoded data removed]",
      "text/plain": [
       "<Figure size 432x288 with 1 Axes>"
      ]
     },
     "metadata": {
      "needs_background": "light"
     },
     "output_type": "display_data"
    }
   ],
   "source": [
    "%matplotlib inline\n",
    "\n",
    "# 해결된 결과 중에서 식 부분만 추출\n",
    "sym_sol = sol.rhs\n",
    "\n",
    "# SymPy 식을 NumPy 함수로 변환\n",
    "num_sol = sy.lambdify(t, sym_sol, 'numpy')\n",
    "\n",
    "# 그래프를 그리기 위한 t 값 배열 생성\n",
    "t_values = np.linspace(0.1, 10, 100)\n",
    "\n",
    "# t 값에 따른 y 값을 계산\n",
    "y_values = num_sol(t_values)\n",
    "\n",
    "\n",
    "\n",
    "# 그래프 그리기\n",
    "plt.scatter(initial_t, initial_y, color='blue', marker='o')\n",
    "plt.text(initial_t, initial_y, f'({initial_t}, {initial_y})', fontsize=12, ha='right')\n",
    "plt.plot(t_values, y_values)\n",
    "plt.xlabel('Time')\n",
    "plt.ylabel('y')\n",
    "plt.title('Graph of the Solution')\n",
    "plt.grid(True)\n",
    "plt.show()\n"
   ]
  },
  {
   "cell_type": "markdown",
   "id": "3959e489",
   "metadata": {},
   "source": [
    "## 1.3 Classification of Differential Equations"
   ]
  },
  {
   "cell_type": "markdown",
   "id": "6a822293",
   "metadata": {},
   "source": [
    "이 chapter에서는 미분방정식의 분류에 대해서 다룹니다. 구현할 부분이 마땅치 않아 skip하도록 하겠습니다"
   ]
  },
  {
   "cell_type": "code",
   "execution_count": null,
   "id": "5264fe3f",
   "metadata": {},
   "outputs": [],
   "source": []
  },
  {
   "cell_type": "code",
   "execution_count": null,
   "id": "967ddc24",
   "metadata": {},
   "outputs": [],
   "source": []
  }
 ],
 "metadata": {
  "kernelspec": {
   "display_name": "Python 3 (ipykernel)",
   "language": "python",
   "name": "python3"
  },
  "language_info": {
   "codemirror_mode": {
    "name": "ipython",
    "version": 3
   },
   "file_extension": ".py",
   "mimetype": "text/x-python",
   "name": "python",
   "nbconvert_exporter": "python",
   "pygments_lexer": "ipython3",
   "version": "3.9.12"
  }
 },
 "nbformat": 4,
 "nbformat_minor": 5
}
