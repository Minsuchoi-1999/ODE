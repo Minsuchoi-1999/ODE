{
 "cells": [
  {
   "cell_type": "markdown",
   "id": "10ae1950",
   "metadata": {},
   "source": [
    "# Assignment 2 - Elementary Differential Equations and Boundary Value Problems\n",
    "\n",
    "한 학기 동안 배운 것을 Programming하기 위해 ODE Calculator를 직접 구현해보겠습니다.\n",
    "\n",
    "전 Assignment에서 선형대수를 오픈 소스없이 직접 구현했기때문에, 이번 Assignment에서는 편의를 위해 numpy 및 여러 오픈 소스를 이용해서 구현해보겠습니다"
   ]
  },
  {
   "cell_type": "markdown",
   "id": "53d680d1",
   "metadata": {},
   "source": [
    "# Chapter 1, Introduction"
   ]
  },
  {
   "cell_type": "markdown",
   "id": "1d6420b4",
   "metadata": {},
   "source": [
    "## 1.1 Some Basic Mathematical Models"
   ]
  },
  {
   "cell_type": "markdown",
   "id": "96adc1c9",
   "metadata": {},
   "source": [
    "이 Chapter에서는 거의 다루는 모델링을 하는 방법에 대해 다루고 있습니다. 구현할 부분은 거의 없기에 Skip하겠습니다."
   ]
  },
  {
   "cell_type": "markdown",
   "id": "39a5c80f",
   "metadata": {},
   "source": [
    "## 1.2 Solutions of Some Differential Equations"
   ]
  },
  {
   "cell_type": "markdown",
   "id": "f341c30f",
   "metadata": {},
   "source": [
    "이 Chapter에서는 가장 간단한 미분방정식인 $\\frac{dy}{dt} = ay - b\\$를 다루고 있습니다. \n",
    "\n",
    "이를 sympy를 이용해 대수적 Solution 구하는 프로그램을 구현해보겠습니다."
   ]
  },
  {
   "cell_type": "code",
   "execution_count": 26,
   "id": "de61faa1",
   "metadata": {},
   "outputs": [
    {
     "data": {
      "text/latex": [
       "$f(t) = 1750.0*exp(0.5*t) - 900.0$"
      ],
      "text/plain": [
       "<IPython.core.display.Latex object>"
      ]
     },
     "metadata": {},
     "output_type": "display_data"
    }
   ],
   "source": [
    "import sympy as sy\n",
    "from IPython.display import Latex\n",
    "\n",
    "def fprint(string):\n",
    "    display(Latex(string))\n",
    "\n",
    "t = sy.symbols('t')\n",
    "f = sy.Function('f')\n",
    "y = f(t)\n",
    "eq = sy.Eq(sy.diff(y, t, 1) - 0.5 * y - 450, 0)\n",
    "\n",
    "# 초기 조건: f(0) = 1 (예시로 지정)\n",
    "initial_condition = {f(0): 850}\n",
    "\n",
    "sol = sy.dsolve(eq, y, ics=initial_condition)\n",
    "\n",
    "fprint(f\"${sol.lhs} = {sol.rhs}$\")"
   ]
  },
  {
   "cell_type": "markdown",
   "id": "593be890",
   "metadata": {},
   "source": [
    "값을 numpy로 바꾸고, matroplotlib를 이용하면 시각화도 가능합니다."
   ]
  },
  {
   "cell_type": "code",
   "execution_count": 27,
   "id": "4f1170e3",
   "metadata": {},
   "outputs": [
    {
     "data": {
      "text/latex": [
       "$f(t) = 901.0*exp(0.5*t) - 900.0$"
      ],
      "text/plain": [
       "<IPython.core.display.Latex object>"
      ]
     },
     "metadata": {},
     "output_type": "display_data"
    },
    {
     "data": {
      "image/png": "[encoded data removed]",
      "text/plain": [
       "<Figure size 432x288 with 1 Axes>"
      ]
     },
     "metadata": {
      "needs_background": "light"
     },
     "output_type": "display_data"
    }
   ],
   "source": [
    "import sympy as sy\n",
    "import numpy as np\n",
    "import matplotlib.pyplot as plt\n",
    "from IPython.display import Latex\n",
    "\n",
    "\n",
    "def fprint(string):\n",
    "    display(Latex(string))\n",
    "\n",
    "t = sy.symbols('t')\n",
    "f = sy.Function('f')\n",
    "y = f(t)\n",
    "eq = sy.Eq(sy.diff(y, t, 1) - 0.5 * y - 450, 0)\n",
    "\n",
    "# 초기 조건: f(0) = 1 (예시로 지정)\n",
    "initial_condition = {f(0): 1}\n",
    "\n",
    "sol = sy.dsolve(eq, y, ics=initial_condition)\n",
    "\n",
    "fprint(f\"${sol.lhs} = {sol.rhs}$\")\n",
    "\n",
    "\n",
    "# 해결된 결과 중에서 식 부분만 추출\n",
    "sym_sol = solution.rhs\n",
    "\n",
    "# SymPy 식을 NumPy 함수로 변환\n",
    "num_sol = sy.lambdify(t, sym_sol, 'numpy')\n",
    "\n",
    "# 그래프를 그리기 위한 t 값 배열 생성\n",
    "t_values = np.linspace(0, 10, 100)\n",
    "\n",
    "# t 값에 따른 y 값을 계산\n",
    "y_values = num_sol(t_values)\n",
    "\n",
    "# 그래프 그리기\n",
    "plt.plot(t_values, y_values)\n",
    "plt.xlabel('Time')\n",
    "plt.ylabel('y')\n",
    "plt.title('Graph of the Solution')\n",
    "plt.grid(True)\n",
    "plt.show()\n"
   ]
  },
  {
   "cell_type": "markdown",
   "id": "65e51853",
   "metadata": {},
   "source": [
    "## 1.3 Classification of Differential Equations"
   ]
  },
  {
   "cell_type": "markdown",
   "id": "cf9581ad",
   "metadata": {},
   "source": [
    "이 chapter에서는 미분방정식의 분류에 대해서 다룹니다. 구현할 부분이 마땅치 않아 skip하도록 하겠습니다"
   ]
  },
  {
   "cell_type": "code",
   "execution_count": null,
   "id": "a888cf40",
   "metadata": {},
   "outputs": [],
   "source": []
  },
  {
   "cell_type": "code",
   "execution_count": null,
   "id": "9d93ff60",
   "metadata": {},
   "outputs": [],
   "source": []
  }
 ],
 "metadata": {
  "kernelspec": {
   "display_name": "Python 3 (ipykernel)",
   "language": "python",
   "name": "python3"
  },
  "language_info": {
   "codemirror_mode": {
    "name": "ipython",
    "version": 3
   },
   "file_extension": ".py",
   "mimetype": "text/x-python",
   "name": "python",
   "nbconvert_exporter": "python",
   "pygments_lexer": "ipython3",
   "version": "3.9.12"
  }
 },
 "nbformat": 4,
 "nbformat_minor": 5
}
