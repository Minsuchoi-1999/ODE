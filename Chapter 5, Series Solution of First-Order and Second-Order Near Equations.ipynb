{
 "cells": [
  {
   "cell_type": "markdown",
   "id": "7e9fbcf5",
   "metadata": {},
   "source": [
    "## Chapter 5, Series Solution of First-Order and Second-Order Near Equations"
   ]
  },
  {
   "cell_type": "markdown",
   "id": "625ee9a5",
   "metadata": {},
   "source": [
    "## 5.1 Review of Power Series"
   ]
  },
  {
   "cell_type": "markdown",
   "id": "129f4708",
   "metadata": {},
   "source": [
    "복습 Chapter이므로 skip하겠습니다."
   ]
  },
  {
   "cell_type": "markdown",
   "id": "4aac577c",
   "metadata": {},
   "source": [
    "## 5.2 Power Series Solution of First-Order Differential Equations"
   ]
  },
  {
   "cell_type": "markdown",
   "id": "be528d04",
   "metadata": {},
   "source": [
    "이때까지와는 다르게 Power Series Solution를 구하는 단원입니다. Sympy에서는 멱급수에 해당하는 풀이법을 제공하지 않습니다. 그래서 마치 손으로 풀었듯이 알고리즘을 직접 구현하여 상수항부터 대입하는 방법으로 해결했습니다. 이는 일반화 된 알고리즘이라고 보긴 힘들 것 같습니다. 예외적인 처리를 조금 더 해줘야 할 것 같습니다."
   ]
  },
  {
   "cell_type": "code",
   "execution_count": 7,
   "id": "5704ff71",
   "metadata": {},
   "outputs": [
    {
     "name": "stdout",
     "output_type": "stream",
     "text": [
      "Solution : \n"
     ]
    },
    {
     "data": {
      "text/latex": [
       "$\\displaystyle \\frac{10 a_{0} x^{9}}{19683} + \\frac{a_{0} x^{8}}{729} + \\frac{8 a_{0} x^{7}}{2187} + \\frac{7 a_{0} x^{6}}{729} + \\frac{2 a_{0} x^{5}}{81} + \\frac{5 a_{0} x^{4}}{81} + \\frac{4 a_{0} x^{3}}{27} + \\frac{a_{0} x^{2}}{3} + \\frac{2 a_{0} x}{3} + a_{0}$"
      ],
      "text/plain": [
       "       9       8         7         6         5         4         3       2    \n",
       "10⋅a₀⋅x    a₀⋅x    8⋅a₀⋅x    7⋅a₀⋅x    2⋅a₀⋅x    5⋅a₀⋅x    4⋅a₀⋅x    a₀⋅x    2\n",
       "──────── + ───── + ─────── + ─────── + ─────── + ─────── + ─────── + ───── + ─\n",
       " 19683      729      2187      729        81        81        27       3      \n",
       "\n",
       "          \n",
       "⋅a₀⋅x     \n",
       "───── + a₀\n",
       " 3        "
      ]
     },
     "metadata": {},
     "output_type": "display_data"
    }
   ],
   "source": [
    "import sympy as sy\n",
    "from sympy import init_printing\n",
    "\n",
    "init_printing(use_latex='mathjax')\n",
    "x = sy.symbols('x')\n",
    "y = sy.Function('y')(x)\n",
    "\n",
    "max_order = 10 #최고 차항 차수\n",
    "alist = list() #미지수 리스트\n",
    "\n",
    "constants = list()\n",
    "\n",
    "y = 0 #풀어낼 답 y\n",
    "\n",
    "def make_power_series(y, max_order):\n",
    "    for i in range(max_order):\n",
    "        c = sy.symbols('a' + str(i))\n",
    "        alist.append(c)\n",
    "        y += c * x**i\n",
    "    return y\n",
    "\n",
    "def solve(y, eq):\n",
    "    index = 1\n",
    "\n",
    "    # 상수항의 계수를 모으는 부분 추가\n",
    "    coeff_lhs = eq_simple.lhs.coeff(x,0)\n",
    "    coeff_rhs = eq_simple.rhs.coeff(x,0)\n",
    "    constant = sy.solve(sy.Eq(coeff_lhs, coeff_rhs), alist[index])\n",
    "    constants.append(constant[0])\n",
    "    index+=1\n",
    "\n",
    "    for i in range(1, max_order - 1):\n",
    "        coeff_lhs = sy.collect(eq_simple.lhs, x**i).coeff(x**i)\n",
    "        coeff_rhs = sy.collect(eq_simple.rhs, x**i).coeff(x**i)\n",
    "        small_eq = sy.Eq(coeff_lhs, coeff_rhs)\n",
    "        small_eq.subs(alist[i], constants[i])\n",
    "\n",
    "        coeff_lhs_substituted = coeff_lhs.subs(alist[i], constants[i])\n",
    "        small_eq = sy.Eq(coeff_lhs_substituted, coeff_rhs)\n",
    "\n",
    "        # 조건식을 이용하여 a_n을 a_0로 표현\n",
    "        condition = small_eq.subs(alist[i], constants[0])\n",
    "        constant_solution = sy.solve(condition, alist[index])\n",
    "        constants.append(constant_solution[0])\n",
    "        index+=1\n",
    "    \n",
    "    \n",
    "    for i in range(0, max_order):\n",
    "        y = y.subs(alist[i], constants[i])\n",
    "    #각각의 멱급수를 a_0로 표현해서 반환\n",
    "    \n",
    "    return y\n",
    "\n",
    "y = make_power_series(y, max_order)\n",
    "\n",
    "constants.append(alist[0])## a_0로 표현될 계수 리스트\n",
    "\n",
    "eq = sy.Eq((x - 3) * sy.diff(y, x, 1) + 2 * y, 0)\n",
    "eq_simple = eq.simplify()\n",
    "\n",
    "y = solve(y, eq_simple)\n",
    "print(\"Solution : \")\n",
    "display(y)\n"
   ]
  },
  {
   "cell_type": "markdown",
   "id": "7b9a5daa",
   "metadata": {},
   "source": [
    "## 5.4 Series Solutions near an Ordinary Point II"
   ]
  },
  {
   "cell_type": "markdown",
   "id": "b624aebb",
   "metadata": {},
   "source": [
    "수렴 범위에 대해 다룹니다. 구현할 내용은 없어서 skip하도록 하겠습니다."
   ]
  },
  {
   "cell_type": "markdown",
   "id": "7d1dfabe",
   "metadata": {},
   "source": [
    "## 5.5 Euler Equations, Regular Singular Points"
   ]
  },
  {
   "cell_type": "markdown",
   "id": "94dfedb5",
   "metadata": {},
   "source": [
    "앞에서 다룬 내용 중 $$ y = x^r $$, $$x^2y'' + axy' + by = 0$$\n",
    "꼴인 특정한 미분방정식 식을 Euler Equations이라고 합니다. 이 식에 있어서는 쉽게 풀 수 있는 방법이 존재하고 그 방법론에 대해 구현해보겠습니다.\n",
    "\n",
    "전체적인 코드는 특정방정식에서 썼던것 과 비슷합니다."
   ]
  },
  {
   "cell_type": "code",
   "execution_count": 6,
   "id": "626d5f41",
   "metadata": {},
   "outputs": [
    {
     "data": {
      "text/latex": [
       "$\\displaystyle \\frac{c_{1}}{x} + c_{2} \\sqrt{x}$"
      ],
      "text/plain": [
       "c₁        \n",
       "── + c₂⋅√x\n",
       "x         "
      ]
     },
     "metadata": {},
     "output_type": "display_data"
    }
   ],
   "source": [
    "import sympy as sy\n",
    "from sympy import init_printing\n",
    "\n",
    "init_printing(use_latex='mathjax')\n",
    "\n",
    "x = sy.symbols('x')\n",
    "f = sy.Function('f')\n",
    "y = f(x)\n",
    "r = sy.symbols('r')\n",
    "c1 = sy.symbols('c1')\n",
    "c2 = sy.symbols('c2')\n",
    "\n",
    "a = 2\n",
    "b = 3\n",
    "c = -1\n",
    "\n",
    "eq = sy.Eq(a*x**2*sy.diff(y, x, 2) + b*x * sy.diff(y, x, 1) + c*y, 0)\n",
    "characteristic_eq = a*r*(r-1) + b*r + c\n",
    "\n",
    "solutions = sy.solve(characteristic_eq, r)\n",
    "\n",
    "sol, basis1, basis2 = 0, 0 , 0 #solution, basis1, basis2 선언\n",
    "\n",
    "if len(solutions) == 1: #중근\n",
    "    basis1 = x**solutions[0]\n",
    "    basis2 = x**solutions[0] * sy.log(x)\n",
    "else: \n",
    "    coeff_1 = abs(solutions[0].as_real_imag()[1])\n",
    "    coeff_2 = solutions[0].as_real_imag()[0]\n",
    "    \n",
    "    if coeff_1 != 0: #허수부가 있을 경우\n",
    "        if coeff_2 != 0:\n",
    "            basis1 = x**coeff_2* sy.cos(sy.log(coeff_1*x))\n",
    "            basis2 = x**coeff_2* sy.sin(sy.log(coeff_1*x))\n",
    "        else:\n",
    "            basis1 = sy.cos(coeff_1*t)\n",
    "            basis2 = sy.sin(coeff_1*t)\n",
    "    else: #허수부가 없을 경우\n",
    "        basis1 = x**solutions[0]\n",
    "        basis2 = x**solutions[1]\n",
    "\n",
    "sol = c1*basis1 + c2*basis2\n",
    "\n",
    "display(sol)\n"
   ]
  },
  {
   "cell_type": "markdown",
   "id": "f6dc5467",
   "metadata": {},
   "source": [
    "## 5.6 Series Solution near a Regular Singular Points, Part "
   ]
  },
  {
   "cell_type": "markdown",
   "id": "5052ed01",
   "metadata": {},
   "source": [
    "이제는 Regular Singular Points 근처에서의 멱급수 해를 구합니다. 역시나 책에 있는 방법을 통해 직접 알고리즘을 구해서 구현하고 앞에서 했던 것과 굉장히 흡사한 방법입니다."
   ]
  },
  {
   "cell_type": "code",
   "execution_count": 88,
   "id": "4532d989",
   "metadata": {},
   "outputs": [
    {
     "name": "stdout",
     "output_type": "stream",
     "text": [
      "Solution : \n",
      "\n",
      "r1 : 1/2\n",
      "\n",
      " y1 = \n"
     ]
    },
    {
     "data": {
      "text/latex": [
       "$\\displaystyle \\frac{a_{0} x^{\\frac{9}{2}}}{2520} - \\frac{a_{0} x^{\\frac{7}{2}}}{90} + \\frac{a_{0} x^{\\frac{5}{2}}}{6} - a_{0} x^{\\frac{3}{2}} + a_{0} \\sqrt{x}$"
      ],
      "text/plain": [
       "    9/2       7/2       5/2                  \n",
       "a₀⋅x      a₀⋅x      a₀⋅x          3/2        \n",
       "─────── - ─────── + ─────── - a₀⋅x    + a₀⋅√x\n",
       "  2520       90        6                     "
      ]
     },
     "metadata": {},
     "output_type": "display_data"
    },
    {
     "name": "stdout",
     "output_type": "stream",
     "text": [
      "r2 : 1\n",
      "\n",
      " y2 = \n"
     ]
    },
    {
     "data": {
      "text/latex": [
       "$\\displaystyle \\frac{a_{0} x^{5}}{2520} - \\frac{a_{0} x^{4}}{90} + \\frac{a_{0} x^{3}}{6} - a_{0} x^{2} + a_{0} x$"
      ],
      "text/plain": [
       "    5       4       3               \n",
       "a₀⋅x    a₀⋅x    a₀⋅x        2       \n",
       "───── - ───── + ───── - a₀⋅x  + a₀⋅x\n",
       " 2520     90      6                 "
      ]
     },
     "metadata": {},
     "output_type": "display_data"
    }
   ],
   "source": [
    "import sympy as sy\n",
    "from sympy import init_printing\n",
    "\n",
    "init_printing(use_latex='mathjax')\n",
    "x = sy.symbols('x')\n",
    "y = sy.Function('y')(x)\n",
    "r = sy.symbols('r')\n",
    "\n",
    "max_order = 5 #최고 차항 차수\n",
    "alist = list() #미지수 리스트\n",
    "\n",
    "constants = list()\n",
    "\n",
    "y = 0 #풀어낼 답 y\n",
    "\n",
    "def make_power_series(y, max_order):\n",
    "    for i in range(max_order):\n",
    "        c = sy.symbols('a' + str(i))\n",
    "        alist.append(c)\n",
    "        y += c * x**(i+r)\n",
    "    \n",
    "    return y\n",
    "\n",
    "def solve(y, eq):\n",
    "    index = 1\n",
    "    # 상수항이 아니라 x^r의 계수를 모으는 부분으로 수정\n",
    "    coeff_lhs = sy.collect(eq.lhs, x**r).coeff(x**r)#x^r에서 계수를 때내서\n",
    "    coeff_rhs = sy.collect(eq.rhs, x**r).coeff(x**r)\n",
    "    coeff_lhs_real = coeff_lhs.coeff(x, 0)#상수항을 모은 후\n",
    "    characteristic_answer = sy.solve(sy.Eq(coeff_lhs_real, coeff_rhs), r)#특성방정식 계산\n",
    "    \n",
    "    eq1 = eq.subs(r, characteristic_answer[0])#식에 r1값 대입\n",
    "    eq2 = eq.subs(r, characteristic_answer[1])#식에 r2값 대입\n",
    "    \n",
    "    r1 = characteristic_answer[0]\n",
    "    eq_1_lhs = sy.collect(eq1.lhs, x**(r1)).coeff(x**(r1)) # x^r 계수를 때냄\n",
    "    \n",
    "    for i in range(1, max_order):\n",
    "        coeff_lhs = sy.collect(eq_1_lhs, x**i).coeff(x, i) \n",
    "        coeff_rhs = sy.collect(eq1.rhs, x**i).coeff(x**i)\n",
    "        coeff_lhs_substituted = coeff_lhs.subs(alist[i-1], constants[i-1])\n",
    "        small_eq = sy.Eq(coeff_lhs_substituted, coeff_rhs)\n",
    "        \n",
    "        # 조건식을 이용하여 a_n을 a_0로 표현\n",
    "        condition = small_eq.subs(alist[i-1], constants[0])\n",
    "        constant_solution = sy.solve(condition, alist[index])\n",
    "        constants.append(constant_solution[0])\n",
    "        index+=1\n",
    "    \n",
    "    y1 = y.copy()\n",
    "    for i in range(0, max_order):\n",
    "        y1 = y1.subs(alist[i], constants[i])\n",
    "    y1= y1.subs(r, r1)\n",
    "    #각각의 멱급수를 a_0로 표현해서 반환\n",
    "    \n",
    "    index = 1\n",
    "    r2 = characteristic_answer[1]\n",
    "    eq_2_lhs = sy.collect(eq2.lhs, x**(r2)).coeff(x**(r2)) # x^r 계수를 때냄\n",
    "    \n",
    "    for i in range(1, max_order):\n",
    "        coeff_lhs = sy.collect(eq_2_lhs, x**i).coeff(x, i) \n",
    "        coeff_rhs = sy.collect(eq2.rhs, x**i).coeff(x**i)\n",
    "        coeff_lhs_substituted = coeff_lhs.subs(alist[i-1], constants[i-1])\n",
    "        small_eq = sy.Eq(coeff_lhs_substituted, coeff_rhs)\n",
    "        \n",
    "        # 조건식을 이용하여 a_n을 a_0로 표현\n",
    "        condition = small_eq.subs(alist[i-1], constants[0])\n",
    "        constant_solution = sy.solve(condition, alist[index])\n",
    "        constants.append(constant_solution[0])\n",
    "        index+=1\n",
    "    \n",
    "    y2 = y.copy()\n",
    "    for i in range(0, max_order):\n",
    "        y2 = y2.subs(alist[i], constants[i])\n",
    "    #각각의 멱급수를 a_0로 표현해서 반환\n",
    "    y2 = y2.subs(r, r2)\n",
    "    \n",
    "    print(\"Solution : \\n\")\n",
    "\n",
    "    print(f\"r1 : {characteristic_answer[0]}\\n\\n y1 = \")\n",
    "    display(y1)\n",
    "    \n",
    "    print(f\"r2 : {characteristic_answer[1]}\\n\\n y2 = \")\n",
    "    display(y2)\n",
    "    \n",
    "y = make_power_series(y, max_order)\n",
    "\n",
    "constants.append(alist[0])## a_0로 표현될 계수 리스트\n",
    "\n",
    "eq = sy.Eq(2*x**2 * sy.diff(y, x, 2) -x*sy.diff(y, x, 1) + (1+x) * y, 0)\n",
    "eq_simple = eq.simplify()\n",
    "\n",
    "solve(y, eq_simple)\n",
    "\n"
   ]
  },
  {
   "cell_type": "markdown",
   "id": "734626e1",
   "metadata": {},
   "source": [
    "## 5.7 Series Solution near a Regular Singular Points, Part II"
   ]
  },
  {
   "cell_type": "markdown",
   "id": "5b07eff7",
   "metadata": {},
   "source": [
    "수렴 범위에 대해 다룹니다. 구현할 내용은 없어서 skip하도록 하겠습니다."
   ]
  },
  {
   "cell_type": "markdown",
   "id": "5019b3ed",
   "metadata": {},
   "source": [
    "## 5.8 Bessel's Equation"
   ]
  },
  {
   "cell_type": "markdown",
   "id": "c7981135",
   "metadata": {},
   "source": [
    "이 Chapter에서는 Bessel Equation에 대해서 다룹니다. \n",
    "\n",
    "그 중 Thm 5.8.1 ~ 5.8.6까지 나오는 Bessel Function에 대한 성질을 수치적으로 다뤄보겠습니다."
   ]
  },
  {
   "cell_type": "code",
   "execution_count": 31,
   "id": "5d91250c",
   "metadata": {},
   "outputs": [
    {
     "name": "stdout",
     "output_type": "stream",
     "text": [
      "5000까지 확인 결과 양 식은 모두 같습니다.\n"
     ]
    }
   ],
   "source": [
    "import sympy as sy\n",
    "from sympy import init_printing\n",
    "from IPython.display import clear_output\n",
    "x = sy.symbols('x')\n",
    "n = sy.symbols('n')\n",
    "\n",
    "init_printing(use_latex='mathjax')\n",
    "\n",
    "def bessel(n, x, min_order, max_order):\n",
    "    y = 0\n",
    "    for r in range(min_order, max_order):\n",
    "        y += (-1)**r/(sy.factorial(r) * sy.factorial(n+r))*(x/2)**(n+2*r)\n",
    "    return y\n",
    "\n",
    "\"\"\"\n",
    "Ex 5.8.1\n",
    " J_n(-x) = -1^n*J_n(x)\n",
    "\"\"\"\n",
    "\n",
    "eq1 = (bessel(n, -x, 0, 5))\n",
    "eq2 = ((-1)**n * bessel(n,x,0,5))\n",
    "\n",
    "for i in range(1, 5000):\n",
    "    if eq1.subs(n, i)- eq2.subs(n, i) != 0:\n",
    "        display(eq1.subs(n, i)- eq2.subs(n, i)) # 다르면 값을 출력하도록 만듭니다.\n",
    "    else:\n",
    "        print(f\"{i}번째 okay\")\n",
    "        clear_output(wait=True)\n",
    "print(\"5000까지 확인 결과 양 식은 모두 같습니다.\")"
   ]
  },
  {
   "cell_type": "code",
   "execution_count": 61,
   "id": "8d635add",
   "metadata": {},
   "outputs": [
    {
     "name": "stdout",
     "output_type": "stream",
     "text": [
      "5000까지 확인 결과 양 식은 모두 같습니다.\n"
     ]
    }
   ],
   "source": [
    "import sympy as sy\n",
    "from sympy import init_printing\n",
    "from IPython.display import clear_output\n",
    "\n",
    "x = sy.symbols('x')\n",
    "n = sy.symbols('n')\n",
    "\n",
    "init_printing(use_latex='mathjax')\n",
    "\n",
    "def bessel(n, x, min_order, max_order):\n",
    "    y = 0\n",
    "    for r in range(min_order, max_order):\n",
    "        y += (-1)**r/(sy.factorial(r) * sy.factorial(n+r))*(x/2)**(n+2*r)\n",
    "    return y\n",
    "\n",
    "\n",
    "\"\"\"\n",
    "Ex 5.8.2\n",
    " 2J_n'(x) = J_n-1(x) -  J_n+1(x) \n",
    "\"\"\"\n",
    "\n",
    "eq1 = 2 * sy.diff(bessel(n, x, 0, 5), x)\n",
    "eq2 = bessel(n-1, x, 0, 5) - bessel(n+1, x, 0, 4)\n",
    "\n",
    "eq1 = sy.simplify(eq1)\n",
    "eq2 = sy.simplify(eq2)\n",
    "\n",
    "display(eq1)\n",
    "display(eq2)\n",
    "\n",
    "for i in range(1, 5000):\n",
    "    if eq1.subs(n, i)- eq2.subs(n, i) != 0:\n",
    "        display(eq1.subs(n, i)- eq2.subs(n, i)) # 다르면 값을 출력하도록 만듭니다.\n",
    "    else:\n",
    "        print(f\"{i}번째 okay\")\n",
    "        clear_output(wait=True)\n",
    "print(\"5000까지 확인 결과 양 식은 모두 같습니다.\")\n"
   ]
  },
  {
   "cell_type": "code",
   "execution_count": 9,
   "id": "f4e847d5",
   "metadata": {},
   "outputs": [
    {
     "name": "stdout",
     "output_type": "stream",
     "text": [
      "5000까지 확인 결과 양 식은 모두 같습니다.\n"
     ]
    }
   ],
   "source": [
    "import sympy as sy\n",
    "from sympy import init_printing\n",
    "from IPython.display import clear_output\n",
    "\n",
    "x = sy.symbols('x')\n",
    "n = sy.symbols('n')\n",
    "\n",
    "init_printing(use_latex='mathjax')\n",
    "\n",
    "def bessel(n, x, min_order, max_order):\n",
    "    y = 0\n",
    "    for r in range(min_order, max_order):\n",
    "        y += (-1)**r/(sy.factorial(r) * sy.factorial(n+r))*(x/2)**(n+2*r)\n",
    "    return y\n",
    "\n",
    "\"\"\"\n",
    "Ex 5.8.2 2nJ_n(x) = x(J_n-1(x) +  J_n+1(x)) \n",
    "\"\"\"\n",
    "\n",
    "eq1 = 2*n * bessel(n, x, 0, 5)\n",
    "eq2 = x*( bessel(n-1, x, 0, 5) + bessel(n+1, x, 0, 4))\n",
    "\n",
    "eq1 = sy.simplify(eq1)\n",
    "eq2 = sy.simplify(eq2)\n",
    "\n",
    "for i in range(1, 5000):\n",
    "    if eq1.subs(n, i)- eq2.subs(n, i) != 0:\n",
    "        display(eq1.subs(n, i)- eq2.subs(n, i)) # 다르면 값을 출력하도록 만듭니다.\n",
    "    else:\n",
    "        print(f\"{i}번째 okay\")\n",
    "        clear_output(wait=True)\n",
    "print(\"5000까지 확인 결과 양 식은 모두 같습니다.\")"
   ]
  },
  {
   "cell_type": "code",
   "execution_count": 10,
   "id": "53815f76",
   "metadata": {},
   "outputs": [
    {
     "name": "stdout",
     "output_type": "stream",
     "text": [
      "5000까지 확인 결과 양 식은 모두 같습니다.\n"
     ]
    }
   ],
   "source": [
    "\"\"\"\n",
    "Thm 5.8.11 d/dx{x^n*J_n(x)} = x^n*J_n-l(x)\n",
    "\"\"\"\n",
    "import sympy as sy\n",
    "from sympy import init_printing\n",
    "from IPython.display import clear_output\n",
    "\n",
    "x = sy.symbols('x')\n",
    "n = sy.symbols('n')\n",
    "\n",
    "init_printing(use_latex='mathjax')\n",
    "\n",
    "def bessel(n, x, min_order, max_order):\n",
    "    y = 0\n",
    "    for r in range(min_order, max_order):\n",
    "        y += (-1)**r/(sy.factorial(r) * sy.factorial(n+r))*(x/2)**(n+2*r)\n",
    "    return y\n",
    "\n",
    "\n",
    "eq1 = sy.diff(x**n * bessel(n, x, 0, 5), x)\n",
    "eq2 = x**n*bessel(n-1, x, 0, 5)\n",
    "\n",
    "eq1 = sy.simplify(eq1)\n",
    "eq2 = sy.simplify(eq2)\n",
    "\n",
    "display(eq1)\n",
    "display(eq2)\n",
    "\n",
    "for i in range(1, 5000):\n",
    "    if eq1.subs(n, i)- eq2.subs(n, i) != 0:\n",
    "        display(eq1.subs(n, i)- eq2.subs(n, i)) # 다르면 값을 출력하도록 만듭니다.\n",
    "    else:\n",
    "        print(f\"{i}번째 okay\")\n",
    "        clear_output(wait=True)\n",
    "print(\"5000까지 확인 결과 양 식은 모두 같습니다.\")\n"
   ]
  },
  {
   "cell_type": "code",
   "execution_count": 11,
   "id": "98843395",
   "metadata": {},
   "outputs": [
    {
     "name": "stdout",
     "output_type": "stream",
     "text": [
      "5000까지 확인 결과 양 식은 모두 같습니다.\n"
     ]
    }
   ],
   "source": [
    "\"\"\"\n",
    "Thm 5.8.2 d/dx{x^-n*J_n(x)} = -x^-n*J_n+l(x)\n",
    "\"\"\"\n",
    "import sympy as sy\n",
    "from sympy import init_printing\n",
    "from IPython.display import clear_output\n",
    "\n",
    "x = sy.symbols('x')\n",
    "n = sy.symbols('n')\n",
    "\n",
    "init_printing(use_latex='mathjax')\n",
    "\n",
    "def bessel(n, x, min_order, max_order):\n",
    "    y = 0\n",
    "    for r in range(min_order, max_order):\n",
    "        y += (-1)**r/(sy.factorial(r) * sy.factorial(n+r))*(x/2)**(n+2*r)\n",
    "    return y\n",
    "\n",
    "\n",
    "eq1 = sy.diff(x**(-n) * bessel(n, x, 0, 5), x)\n",
    "eq2 = -1*x**(-n)*bessel(n+1, x, 0, 4)\n",
    "\n",
    "eq1 = sy.simplify(eq1)\n",
    "eq2 = sy.simplify(eq2)\n",
    "\n",
    "for i in range(1, 5000):\n",
    "    if eq1.subs(n, i)- eq2.subs(n, i) != 0:\n",
    "        display(eq1.subs(n, i)- eq2.subs(n, i)) # 다르면 값을 출력하도록 만듭니다.\n",
    "    else:\n",
    "        print(f\"{i}번째 okay\")\n",
    "        clear_output(wait=True)\n",
    "print(\"5000까지 확인 결과 양 식은 모두 같습니다.\")"
   ]
  },
  {
   "cell_type": "code",
   "execution_count": 14,
   "id": "6b9cc8f4",
   "metadata": {},
   "outputs": [
    {
     "name": "stdout",
     "output_type": "stream",
     "text": [
      "5000까지 확인 결과 양 식은 모두 같습니다.\n"
     ]
    }
   ],
   "source": [
    "\"\"\"\n",
    "Thm 5.8.3 J_n(x)' = J_n-1(x) - (n/x)J_n(x)\n",
    "\"\"\"\n",
    "import sympy as sy\n",
    "from sympy import init_printing\n",
    "from IPython.display import clear_output\n",
    "\n",
    "x = sy.symbols('x')\n",
    "n = sy.symbols('n')\n",
    "\n",
    "init_printing(use_latex='mathjax')\n",
    "\n",
    "def bessel(n, x, min_order, max_order):\n",
    "    y = 0\n",
    "    for r in range(min_order, max_order):\n",
    "        y += (-1)**r/(sy.factorial(r) * sy.factorial(n+r))*(x/2)**(n+2*r)\n",
    "    return y\n",
    "\n",
    "\n",
    "eq1 = sy.diff(bessel(n, x, 0, 5), x)\n",
    "eq2 = bessel(n-1, x, 0, 5) - (n/x)*bessel(n, x, 0, 5)\n",
    "\n",
    "eq1 = sy.simplify(eq1)\n",
    "eq2 = sy.simplify(eq2)\n",
    "\n",
    "for i in range(1, 5000):\n",
    "    if eq1.subs(n, i)- eq2.subs(n, i) != 0:\n",
    "        display(eq1.subs(n, i)- eq2.subs(n, i)) # 다르면 값을 출력하도록 만듭니다.\n",
    "    else:\n",
    "        print(f\"{i}번째 okay\")\n",
    "        clear_output(wait=True)\n",
    "print(\"5000까지 확인 결과 양 식은 모두 같습니다.\")"
   ]
  },
  {
   "cell_type": "code",
   "execution_count": 16,
   "id": "58256f2a",
   "metadata": {},
   "outputs": [
    {
     "name": "stdout",
     "output_type": "stream",
     "text": [
      "5000까지 확인 결과 양 식은 모두 같습니다.\n"
     ]
    }
   ],
   "source": [
    "\"\"\"\n",
    "Thm 5.8.4 J_n(x)' = (n/x)J_n(x) - J_n+1(x)\n",
    "\"\"\"\n",
    "import sympy as sy\n",
    "from sympy import init_printing\n",
    "from IPython.display import clear_output\n",
    "\n",
    "x = sy.symbols('x')\n",
    "n = sy.symbols('n')\n",
    "\n",
    "init_printing(use_latex='mathjax')\n",
    "\n",
    "def bessel(n, x, min_order, max_order):\n",
    "    y = 0\n",
    "    for r in range(min_order, max_order):\n",
    "        y += (-1)**r/(sy.factorial(r) * sy.factorial(n+r))*(x/2)**(n+2*r)\n",
    "    return y\n",
    "\n",
    "\n",
    "eq1 = sy.diff(bessel(n, x, 0, 5), x)\n",
    "eq2 = (n/x)*bessel(n, x, 0, 5) -  bessel(n+1, x, 0, 4)\n",
    "\n",
    "eq1 = sy.simplify(eq1)\n",
    "eq2 = sy.simplify(eq2)\n",
    "\n",
    "for i in range(1, 5000):\n",
    "    if eq1.subs(n, i)- eq2.subs(n, i) != 0:\n",
    "        display(eq1.subs(n, i)- eq2.subs(n, i)) # 다르면 값을 출력하도록 만듭니다.\n",
    "    else:\n",
    "        print(f\"{i}번째 okay\")\n",
    "        clear_output(wait=True)\n",
    "print(\"5000까지 확인 결과 양 식은 모두 같습니다.\")"
   ]
  },
  {
   "cell_type": "code",
   "execution_count": 39,
   "id": "2092cb7d",
   "metadata": {},
   "outputs": [
    {
     "name": "stdout",
     "output_type": "stream",
     "text": [
      "5000까지 확인 결과 547개는 양 식이 완벽히 같습니다.\n"
     ]
    },
    {
     "data": {
      "text/plain": [
       "'\\n부동 소수점 문제로 양 식이 같아도 같다고 나오지 않습니다.\\n다른 방법이 떠오르지 않아 조작없이 그대로 추가했습니다.\\n'"
      ]
     },
     "execution_count": 39,
     "metadata": {},
     "output_type": "execute_result"
    }
   ],
   "source": [
    "\"\"\"\n",
    "Thm 5.8.5 J_n(x)' = 1/2(J_n-1(x) - J_n+1(x))\n",
    "\"\"\"\n",
    "import sympy as sy\n",
    "from sympy import init_printing\n",
    "from IPython.display import clear_output\n",
    "\n",
    "x = sy.symbols('x')\n",
    "n = sy.symbols('n')\n",
    "\n",
    "init_printing(use_latex='mathjax')\n",
    "\n",
    "def bessel(n, x, min_order, max_order):\n",
    "    y = 0\n",
    "    for r in range(min_order, max_order):\n",
    "        y += (-1)**r/(sy.factorial(r) * sy.factorial(n+r))*(x/2)**(n+2*r)\n",
    "    return y\n",
    "\n",
    "\n",
    "eq1 = 1.0 * sy.diff(bessel(n, x, 0, 5), x)\n",
    "eq2 = (1/2)*(bessel(n-1, x, 0, 5) -  bessel(n+1, x, 0, 4))\n",
    "\n",
    "count = 0\n",
    "for i in range(1, 5000):\n",
    "    if eq1.subs(n, i)- eq2.subs(n, i) != 0:\n",
    "         count+=1 # 다르면 다른 개수 추가\n",
    "    else:\n",
    "        print(f\"{i}번째 okay\")\n",
    "        clear_output(wait=True)\n",
    "print(f\"5000까지 확인 결과 {5000 - count}개는 양 식이 완벽히 같습니다.\")\n",
    "\n",
    "\"\"\"\n",
    "부동 소수점 문제로 양 식이 같아도 같다고 나오지 않습니다.\n",
    "다른 방법이 떠오르지 않아 조작없이 그대로 추가했습니다.\n",
    "\"\"\"\n"
   ]
  },
  {
   "cell_type": "code",
   "execution_count": 13,
   "id": "9f776126",
   "metadata": {},
   "outputs": [
    {
     "name": "stdout",
     "output_type": "stream",
     "text": [
      "5000까지 확인 결과 양 식은 모두 같습니다.\n"
     ]
    }
   ],
   "source": [
    "\"\"\"\n",
    "Thm 5.8.6 J_n(x)' = 1/2(J_n-1(x) - J_n+1(x))\n",
    "\"\"\"\n",
    "import sympy as sy\n",
    "from sympy import init_printing\n",
    "from IPython.display import clear_output\n",
    "\n",
    "x = sy.symbols('x')\n",
    "n = sy.symbols('n')\n",
    "\n",
    "init_printing(use_latex='mathjax')\n",
    "\n",
    "def bessel(n, x, min_order, max_order):\n",
    "    y = 0\n",
    "    for r in range(min_order, max_order):\n",
    "        y += (-1)**r/(sy.factorial(r) * sy.factorial(n+r))*(x/2)**(n+2*r)\n",
    "    return y\n",
    "\n",
    "\n",
    "eq1 = bessel(n-1, x, 0, 5) +  bessel(n+1, x, 0, 4)\n",
    "eq2 = (2*n/x)*(bessel(n, x, 0, 5))\n",
    "\n",
    "eq1 = sy.simplify(eq1)\n",
    "eq2 = sy.simplify(eq2)\n",
    "\n",
    "display(eq1)\n",
    "display(eq2)\n",
    "\n",
    "\n",
    "for i in range(1, 5000):\n",
    "    if eq1.subs(n, i)- eq2.subs(n, i) != 0:\n",
    "        display(eq1.subs(n, i)- eq2.subs(n, i)) # 다르면 값을 출력하도록 만듭니다.\n",
    "    else:\n",
    "        print(f\"{i}번째 okay\")\n",
    "        clear_output(wait=True)\n",
    "print(\"5000까지 확인 결과 양 식은 모두 같습니다.\")"
   ]
  },
  {
   "cell_type": "markdown",
   "id": "53b6daf5",
   "metadata": {},
   "source": [
    "뒤에 부분이 더 남았지만, 부동소수점 문제로 어느 정도 오차를 허용해야할지 모르겠어서, 여기까지만 수치적 증명을 남깁니다."
   ]
  },
  {
   "cell_type": "code",
   "execution_count": null,
   "id": "01f4e357",
   "metadata": {},
   "outputs": [],
   "source": []
  }
 ],
 "metadata": {
  "kernelspec": {
   "display_name": "Python 3 (ipykernel)",
   "language": "python",
   "name": "python3"
  },
  "language_info": {
   "codemirror_mode": {
    "name": "ipython",
    "version": 3
   },
   "file_extension": ".py",
   "mimetype": "text/x-python",
   "name": "python",
   "nbconvert_exporter": "python",
   "pygments_lexer": "ipython3",
   "version": "3.9.12"
  }
 },
 "nbformat": 4,
 "nbformat_minor": 5
}
