{
 "cells": [
  {
   "cell_type": "markdown",
   "id": "57ec4fd8",
   "metadata": {},
   "source": [
    "# Chapter 3, Second-Order Linear Diffrential Equations"
   ]
  },
  {
   "cell_type": "markdown",
   "id": "8f22a702",
   "metadata": {},
   "source": [
    "## 3.1 Homogeneous Differential equations with Constant Coefficient"
   ]
  },
  {
   "cell_type": "markdown",
   "id": "45a03f2b",
   "metadata": {},
   "source": [
    "여기서부터는 추가 구현할 내용이 거의 없고, 계산해서 답을 찾는 것 위주이기에 코드가 거의 같습니다. 필요한 부분이 있을 때마다 구현하며 설명하고 아닌 부분은 예제를 푸는 것으로 보이겠습니다."
   ]
  },
  {
   "cell_type": "code",
   "execution_count": 14,
   "id": "e1a07707",
   "metadata": {},
   "outputs": [
    {
     "name": "stdout",
     "output_type": "stream",
     "text": [
      "solution : "
     ]
    },
    {
     "data": {
      "text/latex": [
       "$\\displaystyle \\frac{e^{t}}{2} + \\frac{3 e^{- t}}{2}$"
      ],
      "text/plain": [
       " t      -t\n",
       "ℯ    3⋅ℯ  \n",
       "── + ─────\n",
       "2      2  "
      ]
     },
     "execution_count": 14,
     "metadata": {},
     "output_type": "execute_result"
    }
   ],
   "source": [
    "import sympy as sy\n",
    "import numpy as np\n",
    "import matplotlib.pyplot as plt\n",
    "from sympy import init_printing\n",
    "\n",
    "init_printing(use_latex='mathjax')\n",
    "\n",
    "t = sy.symbols('t')\n",
    "f = sy.Function('f')\n",
    "y = f(t)\n",
    "eq = sy.Eq(sy.diff(y, t, 2) - y, 0)  # f(t)로 수정\n",
    "\n",
    "initial_t1 = 0\n",
    "initial_y1 = 2\n",
    "\n",
    "initial_t2 = 0\n",
    "initial_y2 = -1\n",
    "# 입력 받는 것으로 변경 가능\n",
    "\n",
    "# 초기 조건: f(0) = 2, f'(0) = -1 (예시로 지정)\n",
    "initial_condition = {f(initial_t1): initial_y1, y.diff(t).subs(t, initial_t2): initial_y2}\n",
    "\n",
    "sol = sy.dsolve(eq, f(t), ics=initial_condition)\n",
    "\n",
    "print(\"solution : \", end=\"\")\n",
    "sol.rhs\n"
   ]
  },
  {
   "cell_type": "markdown",
   "id": "ffb93eb2",
   "metadata": {},
   "source": [
    "## 3.2 Solutions of Linear Homogeneous Equations; the Wronskian"
   ]
  },
  {
   "cell_type": "markdown",
   "id": "52a4610f",
   "metadata": {},
   "source": [
    "이번 Chapter는 Linear Homogeneous Equation이 답을 가지는 증명에 대한 내용과 Wronskian, Abel's Theorem에 대해 나옵니다.\n",
    "\n",
    "여기서는 추가로 Wronskian을 구해보고, Abel's Theorem에 대해 구현해보겠습니다."
   ]
  },
  {
   "cell_type": "code",
   "execution_count": 70,
   "id": "a1c1d146",
   "metadata": {},
   "outputs": [
    {
     "name": "stdout",
     "output_type": "stream",
     "text": [
      "solutions of characteristic eqation:\n",
      "[-3, -2]\n",
      "\n",
      "Wronskian : \n"
     ]
    },
    {
     "data": {
      "text/latex": [
       "$\\displaystyle e^{- 5 t}$"
      ],
      "text/plain": [
       " -5⋅t\n",
       "ℯ    "
      ]
     },
     "metadata": {},
     "output_type": "display_data"
    }
   ],
   "source": [
    "import sympy as sy\n",
    "import numpy as np\n",
    "import matplotlib.pyplot as plt\n",
    "from sympy import init_printing\n",
    "\n",
    "init_printing(use_latex='mathjax')\n",
    "\n",
    "def make_wronskian(basis1, basis2):\n",
    "    wronskian = sy.Matrix([[basis1, basis2], [sy.diff(basis1,t ), sy.diff(basis2, t)]])\n",
    "    wr = wronskian.det()\n",
    "    return wr.simplify()\n",
    "\n",
    "t = sy.symbols('t')\n",
    "f = sy.Function('f')\n",
    "y = f(t)\n",
    "a = 1\n",
    "b = 5\n",
    "c = 6\n",
    "\n",
    "eq = sy.Eq(a*sy.diff(y, t, 2) + b * sy.diff(y, t, 1) + c*y, 0)  # f(t)로 수정\n",
    "characteristic_eq = a*t**2 + b*t + c\n",
    "solutions = sy.solve(characteristic_eq, t)\n",
    "# 근 출력\n",
    "print(\"solutions of characteristic eqation:\")\n",
    "print(solutions)\n",
    "print()\n",
    "\n",
    "basis1 = sy.exp(solutions[0]*t)\n",
    "basis2 = sy.exp(solutions[1]*t)\n",
    "\n",
    "Wronskian = make_wronskian(basis1, basis2)\n",
    "\n",
    "if Wronskian == 0:\n",
    "    print(\"invalid!\")\n",
    "else :\n",
    "    print(\"Wronskian : \")\n",
    "    display(Wronskian)\n",
    "    \n"
   ]
  },
  {
   "cell_type": "markdown",
   "id": "a0ab7f64",
   "metadata": {},
   "source": [
    "Abel's Theorem : \n",
    "\n",
    "$$\n",
    "L[y] = y'' + p(t)y' + q(t) y = 0\n",
    "$$일때, \n",
    "\n",
    "$$\n",
    "W[y_1, y_2](t) = c \\exp\\left(-\\int p(t) \\, dt\\right)\n",
    "$$\n",
    "\n",
    "\n",
    "임을 확인해보겠습니다."
   ]
  },
  {
   "cell_type": "code",
   "execution_count": 71,
   "id": "b7810d11",
   "metadata": {},
   "outputs": [
    {
     "name": "stdout",
     "output_type": "stream",
     "text": [
      "solutions of characteristic eqation:\n",
      "[-3, -2]\n",
      "\n",
      "Wronskian : \n"
     ]
    },
    {
     "data": {
      "text/latex": [
       "$\\displaystyle e^{- 5 t}$"
      ],
      "text/plain": [
       " -5⋅t\n",
       "ℯ    "
      ]
     },
     "metadata": {},
     "output_type": "display_data"
    },
    {
     "name": "stdout",
     "output_type": "stream",
     "text": [
      "Right hand side of Abel's theorem : \n"
     ]
    },
    {
     "data": {
      "text/latex": [
       "$\\displaystyle e^{- 5 t}$"
      ],
      "text/plain": [
       " -5⋅t\n",
       "ℯ    "
      ]
     },
     "metadata": {},
     "output_type": "display_data"
    }
   ],
   "source": [
    "import sympy as sy\n",
    "import numpy as np\n",
    "import matplotlib.pyplot as plt\n",
    "from sympy import init_printing\n",
    "\n",
    "init_printing(use_latex='mathjax')\n",
    "\n",
    "def make_wronskian(basis1, basis2):\n",
    "    wronskian = sy.Matrix([[basis1, basis2], [sy.diff(basis1,t ), sy.diff(basis2, t)]])\n",
    "    wr = wronskian.det()\n",
    "    return wr.simplify()\n",
    "\n",
    "t = sy.symbols('t')\n",
    "f = sy.Function('f')\n",
    "y = f(t)\n",
    "a = 1\n",
    "b = 5\n",
    "c = 6\n",
    "\n",
    "eq = sy.Eq(a*sy.diff(y, t, 2) + b * sy.diff(y, t, 1) + c*y, 0)  # f(t)로 수정\n",
    "characteristic_eq = a*t**2 + b*t + c\n",
    "solutions = sy.solve(characteristic_eq, t)\n",
    "# 근 출력\n",
    "print(\"solutions of characteristic eqation:\")\n",
    "print(solutions)\n",
    "print()\n",
    "\n",
    "basis1 = sy.exp(solutions[0]*t)\n",
    "basis2 = sy.exp(solutions[1]*t)\n",
    "\n",
    "Wronskian = make_wronskian(basis1, basis2)\n",
    "Abel_rhs = sy.exp(-sy.integrate(b, t))\n",
    "\n",
    "if Wronskian == 0:\n",
    "    print(\"invalid!\")\n",
    "else :\n",
    "    print(\"Wronskian : \")\n",
    "    display(Wronskian)\n",
    "    print(\"Right hand side of Abel's theorem : \")\n",
    "    display(Abel_rhs)\n",
    "    \n"
   ]
  },
  {
   "cell_type": "markdown",
   "id": "3cf5a8e2",
   "metadata": {},
   "source": [
    "이렇게 Abel's Theorem 양변이 상수배 차이나는 것을 확인 할 수 있었습니다."
   ]
  },
  {
   "cell_type": "markdown",
   "id": "05e3392c",
   "metadata": {},
   "source": [
    "## 3.3 Complex Roots of the Characteristic Equation"
   ]
  },
  {
   "cell_type": "markdown",
   "id": "09dc3142",
   "metadata": {},
   "source": [
    "예제를 풀어보고, Wronskian을 구해보겠습니다."
   ]
  },
  {
   "cell_type": "code",
   "execution_count": 32,
   "id": "2a06b053",
   "metadata": {},
   "outputs": [
    {
     "name": "stdout",
     "output_type": "stream",
     "text": [
      "solutions of characteristic eqation:\n",
      "[-0.5 - 3.0*I, -0.5 + 3.0*I]\n",
      "\n",
      "Wronskian : \n"
     ]
    },
    {
     "data": {
      "text/latex": [
       "$\\displaystyle 3.0 e^{- 1.0 t}$"
      ],
      "text/plain": [
       "     -1.0⋅t\n",
       "3.0⋅ℯ      "
      ]
     },
     "metadata": {},
     "output_type": "display_data"
    },
    {
     "name": "stdout",
     "output_type": "stream",
     "text": [
      "solution : "
     ]
    },
    {
     "data": {
      "text/latex": [
       "$\\displaystyle \\left(3.0 \\sin{\\left(3.0 t \\right)} + 2.0 \\cos{\\left(3.0 t \\right)}\\right) e^{- 0.5 t}$"
      ],
      "text/plain": [
       "                                   -0.5⋅t\n",
       "(3.0⋅sin(3.0⋅t) + 2.0⋅cos(3.0⋅t))⋅ℯ      "
      ]
     },
     "metadata": {},
     "output_type": "display_data"
    }
   ],
   "source": [
    "import sympy as sy\n",
    "import numpy as np\n",
    "import matplotlib.pyplot as plt\n",
    "from sympy import init_printing\n",
    "\n",
    "init_printing(use_latex='mathjax')\n",
    "\n",
    "def make_wronskian(basis1, basis2):\n",
    "    wronskian = sy.Matrix([[basis1, basis2], [sy.diff(basis1,t ), sy.diff(basis2, t)]])\n",
    "    wr = wronskian.det()\n",
    "    return wr.simplify()\n",
    "\n",
    "t = sy.symbols('t')\n",
    "f = sy.Function('f')\n",
    "y = f(t)\n",
    "\n",
    "a = 1\n",
    "b = 1\n",
    "c = 9.25\n",
    "\n",
    "eq = sy.Eq(a*sy.diff(y, t, 2) + b * sy.diff(y, t, 1) + c*y, 0)  # f(t)로 수정\n",
    "characteristic_eq = a*t**2 + b*t + c\n",
    "solutions = sy.solve(characteristic_eq, t)\n",
    "\n",
    "# 근 출력\n",
    "print(\"solutions of characteristic eqation:\")\n",
    "print(solutions)\n",
    "print()\n",
    "\n",
    "coeff_1 = abs(solutions[0].as_real_imag()[1])\n",
    "coeff_2 = solutions[0].as_real_imag()[0]\n",
    "if coeff_1 != 0: #허수부가 있을 경우\n",
    "    if coeff_2 != 0:\n",
    "        basis1 = sy.exp(coeff_2*t)* sy.cos(coeff_1*t)\n",
    "        basis2 = sy.exp(coeff_2*t)* sy.sin(coeff_1*t)\n",
    "    else:\n",
    "        basis1 = sy.cos(coeff_1*t)\n",
    "        basis2 = sy.sin(coeff_1*t)\n",
    "\n",
    "\n",
    "Wronskian = make_wronskian(basis1, basis2)\n",
    "\n",
    "if Wronskian == 0:\n",
    "    print(\"invalid!\")\n",
    "else :\n",
    "    print(\"Wronskian : \")\n",
    "    display(Wronskian)\n",
    "    \n",
    "    initial_t1 = 0\n",
    "    initial_y1 = 2\n",
    "\n",
    "    initial_t2 = 0\n",
    "    initial_y2 = 8\n",
    "    # 입력 받는 것으로 변경 가능\n",
    "\n",
    "    initial_condition = {f(initial_t1): initial_y1, y.diff(t).subs(t, initial_t2): initial_y2}\n",
    "\n",
    "    sol = sy.dsolve(eq, f(t), ics=initial_condition)\n",
    "\n",
    "    print(\"solution : \", end=\"\")\n",
    "    display(sol.rhs)\n",
    "    \n"
   ]
  },
  {
   "cell_type": "markdown",
   "id": "fc4a4712",
   "metadata": {},
   "source": [
    "## 3.4 Repeated Roots; Reduction of order"
   ]
  },
  {
   "cell_type": "markdown",
   "id": "7edf3c10",
   "metadata": {},
   "source": [
    "예제를 풀어보고, Wronskian을 구해보겠습니다."
   ]
  },
  {
   "cell_type": "code",
   "execution_count": 22,
   "id": "60be12d4",
   "metadata": {},
   "outputs": [
    {
     "name": "stdout",
     "output_type": "stream",
     "text": [
      "Wronskian : \n"
     ]
    },
    {
     "data": {
      "text/latex": [
       "$\\displaystyle e^{- 4 t}$"
      ],
      "text/plain": [
       " -4⋅t\n",
       "ℯ    "
      ]
     },
     "metadata": {},
     "output_type": "display_data"
    },
    {
     "name": "stdout",
     "output_type": "stream",
     "text": [
      "solution : "
     ]
    },
    {
     "data": {
      "text/latex": [
       "$\\displaystyle \\left(2 t + 2\\right) e^{- 2 t}$"
      ],
      "text/plain": [
       "           -2⋅t\n",
       "(2⋅t + 2)⋅ℯ    "
      ]
     },
     "metadata": {},
     "output_type": "display_data"
    }
   ],
   "source": [
    "import sympy as sy\n",
    "from sympy import init_printing\n",
    "\n",
    "init_printing(use_latex='mathjax')\n",
    "\n",
    "def make_wronskian(basis1, basis2):\n",
    "    wronskian = sy.Matrix([[basis1, basis2], [sy.diff(basis1, t), sy.diff(basis2, t)]])\n",
    "    wr = wronskian.det()\n",
    "    return wr.simplify()\n",
    "\n",
    "t = sy.symbols('t')\n",
    "f = sy.Function('f')\n",
    "y = f(t)\n",
    "\n",
    "a = 1\n",
    "b = 4\n",
    "c = 4\n",
    "\n",
    "eq = sy.Eq(a*sy.diff(y, t, 2) + b * sy.diff(y, t, 1) + c*y, 0)\n",
    "\n",
    "characteristic_eq = a*t**2 + b*t + c\n",
    "solutions = sy.solve(characteristic_eq, t)\n",
    "\n",
    "r = solutions[0]  # 중근 값\n",
    "basis1 = sy.exp(r * t)\n",
    "basis2 = t * sy.exp(r * t)\n",
    "\n",
    "Wronskian = make_wronskian(basis1, basis2)\n",
    "\n",
    "if Wronskian == 0:\n",
    "    print(\"invalid!\")\n",
    "else:\n",
    "    print(\"Wronskian : \")\n",
    "    display(Wronskian)\n",
    "\n",
    "    initial_t1 = 0\n",
    "    initial_y1 = 2\n",
    "\n",
    "    initial_t2 = 0\n",
    "    initial_y2 = -2\n",
    "\n",
    "    initial_condition = {f(initial_t1): initial_y1, y.diff(t).subs(t, initial_t2): initial_y2}\n",
    "\n",
    "    sol = sy.dsolve(eq, f(t), ics=initial_condition)\n",
    "\n",
    "    print(\"solution : \", end=\"\")\n",
    "    display(sol.rhs)\n"
   ]
  },
  {
   "cell_type": "markdown",
   "id": "8d847729",
   "metadata": {},
   "source": [
    "## 3.5 Nonhomogeneous Equations : Methods of Undertermined Coefficents"
   ]
  },
  {
   "cell_type": "markdown",
   "id": "f30c0a40",
   "metadata": {},
   "source": [
    "원래는 미정계수법으로 해결하는 부분이지만, 프로그래밍으로 해결하겠습니다.\n",
    "\n",
    "Wronskian은 위에서 다루었던 것을 총 정리해서, 들어오는 식에 따라 자동으로 분류하여 해결하도록 바꾸었습니다."
   ]
  },
  {
   "cell_type": "code",
   "execution_count": 31,
   "id": "1bebfed9",
   "metadata": {},
   "outputs": [
    {
     "name": "stdout",
     "output_type": "stream",
     "text": [
      "Wronskian : \n"
     ]
    },
    {
     "data": {
      "text/latex": [
       "$\\displaystyle 5 e^{3 t}$"
      ],
      "text/plain": [
       "   3⋅t\n",
       "5⋅ℯ   "
      ]
     },
     "metadata": {},
     "output_type": "display_data"
    },
    {
     "name": "stdout",
     "output_type": "stream",
     "text": [
      "solution : "
     ]
    },
    {
     "data": {
      "text/latex": [
       "$\\displaystyle \\frac{2 \\cdot \\left(5 \\sin{\\left(2 t \\right)} - \\cos{\\left(2 t \\right)}\\right) e^{t}}{13} + \\frac{327 e^{4 t}}{2210} - \\frac{e^{2 t}}{2} - \\frac{3 \\sin{\\left(t \\right)}}{17} - \\frac{5 \\cos{\\left(t \\right)}}{17} + \\frac{14 e^{- t}}{5}$"
      ],
      "text/plain": [
       "                           t        4⋅t    2⋅t                             -t\n",
       "2⋅(5⋅sin(2⋅t) - cos(2⋅t))⋅ℯ    327⋅ℯ      ℯ      3⋅sin(t)   5⋅cos(t)   14⋅ℯ  \n",
       "──────────────────────────── + ──────── - ──── - ──────── - ──────── + ──────\n",
       "             13                  2210      2        17         17        5   "
      ]
     },
     "metadata": {},
     "output_type": "display_data"
    }
   ],
   "source": [
    "import sympy as sy\n",
    "from sympy import init_printing\n",
    "\n",
    "init_printing(use_latex='mathjax')\n",
    "\n",
    "def make_wronskian(basis1, basis2):\n",
    "    wronskian = sy.Matrix([[basis1, basis2], [sy.diff(basis1, t), sy.diff(basis2, t)]])\n",
    "    wr = wronskian.det()\n",
    "    return wr.simplify()\n",
    "\n",
    "t = sy.symbols('t')\n",
    "f = sy.Function('f')\n",
    "y = f(t)\n",
    "\n",
    "a = 1\n",
    "b = -3\n",
    "c = -4\n",
    "\n",
    "eq = sy.Eq(a*sy.diff(y, t, 2) + b * sy.diff(y, t, 1) + c*y, 3*sy.exp(2*t) +2*sy.cos(t)-8*sy.exp(t)*sy.sin(2*t))\n",
    "\n",
    "characteristic_eq = a*t**2 + b*t + c\n",
    "solutions = sy.solve(characteristic_eq, t)\n",
    "\n",
    "if len(solutions) == 1: #중근\n",
    "    basis1 = sy.exp(solutions[0] * t)\n",
    "    basis2 = t * sy.exp(solutions[0] * t)\n",
    "else: \n",
    "    coeff_1 = abs(solutions[0].as_real_imag()[1])\n",
    "    coeff_2 = solutions[0].as_real_imag()[0]\n",
    "    if coeff_1 != 0: #허수부가 있을 경우\n",
    "        if coeff_2 != 0:\n",
    "            basis1 = sy.exp(coeff_2*t)* sy.cos(coeff_1*t)\n",
    "            basis2 = sy.exp(coeff_2*t)* sy.sin(coeff_1*t)\n",
    "        else:\n",
    "            basis1 = sy.cos(coeff_1*t)\n",
    "            basis2 = sy.sin(coeff_1*t)\n",
    "    else: #허수부가 없을 경우\n",
    "        basis1 = sy.exp(solutions[0] * t)\n",
    "        basis2 = sy.exp(solutions[1] * t)\n",
    "        \n",
    "\n",
    "Wronskian = make_wronskian(basis1, basis2)\n",
    "\n",
    "if Wronskian == 0:\n",
    "    print(\"invalid!\")\n",
    "else:\n",
    "    print(\"Wronskian : \")\n",
    "    display(Wronskian)\n",
    "\n",
    "    initial_t1 = 0\n",
    "    initial_y1 = 2\n",
    "\n",
    "    initial_t2 = 0\n",
    "    initial_y2 = -2\n",
    "\n",
    "    initial_condition = {f(initial_t1): initial_y1, y.diff(t).subs(t, initial_t2): initial_y2}\n",
    "\n",
    "    sol = sy.dsolve(eq, f(t), ics=initial_condition)\n",
    "\n",
    "    print(\"solution : \", end=\"\")\n",
    "    display(sol.rhs)\n"
   ]
  },
  {
   "cell_type": "markdown",
   "id": "f9833b3a",
   "metadata": {},
   "source": [
    "## 3.6 Variation of Parameters"
   ]
  },
  {
   "cell_type": "markdown",
   "id": "0b037567",
   "metadata": {},
   "source": [
    "이 부분에서는\n",
    "\n",
    "$$\n",
    "L[y] = y'' + p(t)y' + q(t) y = g(t)\n",
    "$$일때, \n",
    "\n",
    "$$\n",
    "L[y] = y'' + p(t)y' + q(t) y = 0\n",
    "$$가 $$y_1, y_2$$를 fundermental set of solutions로 가진다면\n",
    "\n",
    "그 해는$$Y(t) = -y_1(t)\\left(\\int_{t_0}^{t}\\frac{y_2(s)g(s)}{W[y_1,y_2](s)}\\, ds\\right) + y_1(t)\\left(\\int_{t_0}^{t}\\frac{y_1(s)g(s)}{W[y_1,y_2](s)}\\, ds\\right)$$\n",
    "를 가집니다. \n",
    "\n",
    "(where t_0 is any conveniently chosen point in open interval I)\n",
    "\n",
    "이 부분을 직접 해를 구해서 확인해보겠습니다."
   ]
  },
  {
   "cell_type": "code",
   "execution_count": 35,
   "id": "0d4aef75",
   "metadata": {},
   "outputs": [
    {
     "name": "stdout",
     "output_type": "stream",
     "text": [
      "Wronskian : \n"
     ]
    },
    {
     "data": {
      "text/latex": [
       "$\\displaystyle 2$"
      ],
      "text/plain": [
       "2"
      ]
     },
     "metadata": {},
     "output_type": "display_data"
    },
    {
     "name": "stdout",
     "output_type": "stream",
     "text": [
      "solution by programmaing: "
     ]
    },
    {
     "data": {
      "text/latex": [
       "$\\displaystyle \\left(2 - 4 t\\right) \\cos{\\left(2 t \\right)} + \\left(4 \\log{\\left(\\cos{\\left(t \\right)} \\right)} + 6\\right) \\sin{\\left(2 t \\right)}$"
      ],
      "text/plain": [
       "(2 - 4⋅t)⋅cos(2⋅t) + (4⋅log(cos(t)) + 6)⋅sin(2⋅t)"
      ]
     },
     "metadata": {},
     "output_type": "display_data"
    },
    {
     "name": "stdout",
     "output_type": "stream",
     "text": [
      "solution by variation of parmeter\n"
     ]
    },
    {
     "data": {
      "text/latex": [
       "$\\displaystyle c_{1} \\cos{\\left(2 t \\right)} + c_{2} \\sin{\\left(2 t \\right)} - 4 t \\cos{\\left(2 t \\right)} + 4 \\log{\\left(\\cos{\\left(t \\right)} \\right)} \\sin{\\left(2 t \\right)} + 2 \\sin{\\left(2 t \\right)}$"
      ],
      "text/plain": [
       "c₁⋅cos(2⋅t) + c₂⋅sin(2⋅t) - 4⋅t⋅cos(2⋅t) + 4⋅log(cos(t))⋅sin(2⋅t) + 2⋅sin(2⋅t)"
      ]
     },
     "metadata": {},
     "output_type": "display_data"
    },
    {
     "name": "stdout",
     "output_type": "stream",
     "text": [
      "the difference between two answers :\n"
     ]
    },
    {
     "data": {
      "text/latex": [
       "$\\displaystyle - c_{1} \\cos{\\left(2 t \\right)} - c_{2} \\sin{\\left(2 t \\right)} + 4 \\sin{\\left(2 t \\right)} + 2 \\cos{\\left(2 t \\right)}$"
      ],
      "text/plain": [
       "-c₁⋅cos(2⋅t) - c₂⋅sin(2⋅t) + 4⋅sin(2⋅t) + 2⋅cos(2⋅t)"
      ]
     },
     "metadata": {},
     "output_type": "display_data"
    },
    {
     "name": "stdout",
     "output_type": "stream",
     "text": [
      "if we choose c1 = 2, c2 = 4\n",
      "We can show lhs and rhs are same\n"
     ]
    }
   ],
   "source": [
    "import sympy as sy\n",
    "from sympy import init_printing\n",
    "\n",
    "init_printing(use_latex='mathjax')\n",
    "\n",
    "def make_wronskian(basis1, basis2):\n",
    "    wronskian = sy.Matrix([[basis1, basis2], [sy.diff(basis1, t), sy.diff(basis2, t)]])\n",
    "    wr = wronskian.det()\n",
    "    return wr.simplify()\n",
    "\n",
    "t = sy.symbols('t')\n",
    "f = sy.Function('f')\n",
    "y = f(t)\n",
    "g = sy.Function('g')(t)\n",
    "a = 1\n",
    "b = 0\n",
    "c = 4\n",
    "g = 8*sy.tan(t)\n",
    "eq = sy.Eq(a*sy.diff(y, t, 2) + b * sy.diff(y, t, 1) + c*y, g)\n",
    "\n",
    "characteristic_eq = a*t**2 + b*t + c\n",
    "solutions = sy.solve(characteristic_eq, t)\n",
    "\n",
    "if len(solutions) == 1: #중근\n",
    "    basis1 = sy.exp(solutions[0] * t)\n",
    "    basis2 = t * sy.exp(solutions[0] * t)\n",
    "else: \n",
    "    coeff_1 = abs(solutions[0].as_real_imag()[1])\n",
    "    coeff_2 = solutions[0].as_real_imag()[0]\n",
    "    \n",
    "    if coeff_1 != 0: #허수부가 있을 경우\n",
    "        if coeff_2 != 0:\n",
    "            basis1 = sy.exp(coeff_2*t)* sy.cos(coeff_1*t)\n",
    "            basis2 = sy.exp(coeff_2*t)* sy.sin(coeff_1*t)\n",
    "        else:\n",
    "            basis1 = sy.cos(coeff_1*t)\n",
    "            basis2 = sy.sin(coeff_1*t)\n",
    "    else: #허수부가 없을 경우\n",
    "        basis1 = sy.exp(solutions[0] * t)\n",
    "        basis2 = sy.exp(solutions[1] * t)\n",
    "\n",
    "\n",
    "Wronskian = make_wronskian(basis1, basis2)\n",
    "\n",
    "if Wronskian == 0:\n",
    "    print(\"invalid!\")\n",
    "else:\n",
    "    print(\"Wronskian : \")\n",
    "    display(Wronskian)\n",
    "\n",
    "    initial_condition = {f(initial_t1): initial_y1, y.diff(t).subs(t, initial_t2): initial_y2}\n",
    "\n",
    "    sol = sy.dsolve(eq, f(t), ics=initial_condition)\n",
    "\n",
    "    print(\"solution by programmaing: \", end=\"\")\n",
    "    display(sol.rhs)\n",
    "    \n",
    "    c1,c2 = sy.symbols('c1, c2')\n",
    "    right_hand_side = -basis1 * sy.integrate(basis2*g/Wronskian, t) +basis2 * sy.integrate(basis1*g/Wronskian, t) + c1*basis1 + c2*basis2\n",
    "    print(\"solution by variation of parmeter\")\n",
    "    rhs = right_hand_side.simplify()\n",
    "    display(rhs)\n",
    "    \n",
    "    print(\"the difference between two answers :\")\n",
    "    diff = (sol_simple - rhs).simplify()\n",
    "    display(diff)\n",
    "    \n",
    "    print(\"if we choose c1 = 2, c2 = 4\")\n",
    "    print(\"We can show lhs and rhs are same\")\n",
    "    "
   ]
  },
  {
   "cell_type": "markdown",
   "id": "534e2726",
   "metadata": {},
   "source": [
    "첫번째 solution은 programming으로 구한 답이고, 두번째 solution은 varation of parameters에 대해 다룬 건데 t_0를 임의로 선택하여 general solution을 구할 수 있기 때문에 c1, c2를 2, 4로 각각 선택하면 양쪽의 답이 같아지는 것을 알 수 있었습니다."
   ]
  },
  {
   "cell_type": "markdown",
   "id": "84051c5b",
   "metadata": {},
   "source": [
    "## 3.7 Mechanical and Electrical Vibrations & 3.9 Forced Pereodic Vibrations"
   ]
  },
  {
   "cell_type": "markdown",
   "id": "1e41d53d",
   "metadata": {},
   "source": [
    "Chapter 3.8은 전자기 및 물리에서 삼각함수에 대한 공학적 모델링, Chapter 3.9는 마찰이 있는 단진자 운동에 대한 내용을 다룹니다. 알고리즘 상 구현의 내용은 거의 없기에 Skip하겠습니다 "
   ]
  },
  {
   "cell_type": "code",
   "execution_count": null,
   "id": "f9deb349",
   "metadata": {},
   "outputs": [],
   "source": []
  }
 ],
 "metadata": {
  "kernelspec": {
   "display_name": "Python 3 (ipykernel)",
   "language": "python",
   "name": "python3"
  },
  "language_info": {
   "codemirror_mode": {
    "name": "ipython",
    "version": 3
   },
   "file_extension": ".py",
   "mimetype": "text/x-python",
   "name": "python",
   "nbconvert_exporter": "python",
   "pygments_lexer": "ipython3",
   "version": "3.9.12"
  }
 },
 "nbformat": 4,
 "nbformat_minor": 5
}
