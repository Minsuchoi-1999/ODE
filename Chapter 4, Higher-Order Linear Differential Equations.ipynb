{
 "cells": [
  {
   "cell_type": "markdown",
   "id": "0d2a812b",
   "metadata": {},
   "source": [
    "# Chapter 4, Higher-Order Linear Differential Equations"
   ]
  },
  {
   "cell_type": "markdown",
   "id": "500fb4c6",
   "metadata": {},
   "source": [
    "## 4.1 General Theory of nth Order Linear Differential Equations"
   ]
  },
  {
   "cell_type": "markdown",
   "id": "1735b751",
   "metadata": {},
   "source": [
    "Analytical한 증명입니다. skip하겠습니다"
   ]
  },
  {
   "cell_type": "markdown",
   "id": "de547dc6",
   "metadata": {},
   "source": [
    "## 4.2 Homogeneous Differential Equations with Constant Coefficients & 4.3 The Methods of Undetermined Coefficents"
   ]
  },
  {
   "cell_type": "markdown",
   "id": "91da5fd8",
   "metadata": {},
   "source": [
    "앞 장에서 다루었던 내용의 확장입니다.\n",
    "\n",
    "여기서 특성방정식을 이용한 Basis를 만드는 프로그램을 생각해보았는데, 해를 찾긴 하는데 중근을 분류해 낼 방법이 없어서 인수분해 후 중근을 직접 count하는 방법을 했습니다.\n",
    "\n",
    "예제를 풀어보겠습니다."
   ]
  },
  {
   "cell_type": "code",
   "execution_count": 55,
   "id": "978e8045",
   "metadata": {},
   "outputs": [
    {
     "name": "stdout",
     "output_type": "stream",
     "text": [
      "-16\n",
      "Wronskian : \n"
     ]
    },
    {
     "data": {
      "text/latex": [
       "$\\displaystyle -16$"
      ],
      "text/plain": [
       "-16"
      ]
     },
     "metadata": {},
     "output_type": "display_data"
    },
    {
     "name": "stdout",
     "output_type": "stream",
     "text": [
      "solution : "
     ]
    },
    {
     "data": {
      "text/latex": [
       "$\\displaystyle C_{1} + C_{3} e^{2 t} - \\frac{t^{2}}{8} + \\left(C_{2} + \\frac{t}{8}\\right) e^{- 2 t} - \\frac{3 \\sin{\\left(t \\right)}}{5}$"
      ],
      "text/plain": [
       "                2                            \n",
       "         2⋅t   t    ⎛     t⎞  -2⋅t   3⋅sin(t)\n",
       "C₁ + C₃⋅ℯ    - ── + ⎜C₂ + ─⎟⋅ℯ     - ────────\n",
       "               8    ⎝     8⎠            5    "
      ]
     },
     "metadata": {},
     "output_type": "display_data"
    }
   ],
   "source": [
    "import sympy as sy\n",
    "from sympy import init_printing\n",
    "\n",
    "init_printing(use_latex='mathjax')\n",
    "t = sy.symbols('t')\n",
    "f = sy.Function('f')\n",
    "\n",
    "def make_wronskian(basis):\n",
    "    row = len(basis)\n",
    "    matrix = []  # 빈 행렬 생성\n",
    "    \n",
    "    for i in range(row):\n",
    "        basis_row = [basis[i]]  # 각 기저 함수를 담은 리스트 생성\n",
    "        \n",
    "        for j in range(1, row):\n",
    "            basis_row.append(sy.diff(basis[i], t, j))  # 각 기저 함수의 미분을 행렬에 추가\n",
    "        matrix.append(basis_row)  # 각 기저 함수 행을 행렬에 추가\n",
    "    \n",
    "    wr = sy.Matrix(matrix).det()\n",
    "    print(wr)\n",
    "    \n",
    "    return wr.simplify()\n",
    "\n",
    "a = 1\n",
    "b = 0\n",
    "c = -4\n",
    "d = 0\n",
    "\n",
    "eq = sy.Eq(a*sy.diff(f(t), t, 3) + b * sy.diff(f(t), t, 2) +  c * sy.diff(f(t), t, 1) + d*f(t),t+ 3*sy.cos(t) +sy.exp(-2*t))\n",
    "characteristic_eq = a*t**3+b*t**2+c*t+d*t\n",
    "\n",
    "factors_list = sy.factor_list(characteristic_eq)[1]\n",
    "\n",
    "basis = []\n",
    "\n",
    "for factor in factors_list:\n",
    "    if factor[1] != 1:\n",
    "        solution = sy.solve(factor[0], t)\n",
    "        base = sy.exp(solution[0]*t)\n",
    "        basis.append(base)\n",
    "        \n",
    "        for i in range(factor[1]-1):\n",
    "            base = base*t\n",
    "            basis.append(base)\n",
    "        \n",
    "    else: \n",
    "        solutions = sy.solve(factor[0], t) \n",
    "        coeff_1 = abs(solutions[0].as_real_imag()[1])\n",
    "        coeff_2 = solutions[0].as_real_imag()[0]\n",
    "        if coeff_1 != 0: #허수부가 있을 경우\n",
    "            if coeff_2 != 0:\n",
    "                basis1 = sy.exp(coeff_2*t)* sy.cos(coeff_1*t)\n",
    "                basis2 = sy.exp(coeff_2*t)* sy.sin(coeff_1*t)\n",
    "            else:\n",
    "                basis1 = sy.cos(coeff_1*t)\n",
    "                basis2 = sy.sin(coeff_1*t)\n",
    "            basis.append(basis1)\n",
    "            basis.append(basis2)        \n",
    "        else: #허수부가 없을 경우\n",
    "            solutions = sy.solve(factor[0], t) \n",
    "            basis1 = sy.exp(solutions[0] * t)\n",
    "            basis.append(basis1)\n",
    "        \n",
    "Wronskian = make_wronskian(basis)\n",
    "\n",
    "if Wronskian == 0:\n",
    "    print(\"invalid!\")\n",
    "else:\n",
    "    print(\"Wronskian : \")\n",
    "    display(Wronskian)\n",
    "\n",
    "    sol = sy.dsolve(eq, f(t))\n",
    "\n",
    "    print(\"solution : \", end=\"\")\n",
    "    display(sol.rhs)\n"
   ]
  },
  {
   "cell_type": "markdown",
   "id": "5d06d35f",
   "metadata": {},
   "source": [
    "## 4.4 The Method of Variation of Parameters"
   ]
  },
  {
   "cell_type": "markdown",
   "id": "859f2da8",
   "metadata": {},
   "source": [
    "이 부분에서는\n",
    "\n",
    "$$\n",
    "L[y] = y^(n) + p_1(t)y^(n-1)+ ... + p_n-1(t)y' + p_n(t)y = g(t)\n",
    "$$일때, \n",
    "\n",
    "$$\n",
    "L[y] = y^(n) + p_1(t)y^(n-1)+ ... + p_n-1(t)y' + p_n(t)y = g(t)\n",
    "$$가 $$y_1, y_2, ... y_n$$를 fundermental set of solutions로 가지고,\n",
    "\n",
    "$$W_m$$이 mth column을 $$(0, 0, 0, ... 1)^T$$로 대체된 matrixd의 determinant라고 하면\n",
    "\n",
    "그 해는\n",
    "$$Y(t) = \\sum_{m=1}^{n} y_m(t) \\left( \\int_{t_0}^{t} \\frac{g(s)W_m(s)}{W(s)} \\, ds \\right)$$\n",
    "를 가집니다. \n",
    "\n",
    "(where t_0 is any conveniently chosen point in open interval I)\n",
    "\n",
    "이 부분을 프로그래밍으로 해를 구하고, Variation of Parameters법으로 직접 해를 구해서 확인해보겠습니다."
   ]
  },
  {
   "cell_type": "code",
   "execution_count": 70,
   "id": "3347fd29",
   "metadata": {},
   "outputs": [
    {
     "name": "stdout",
     "output_type": "stream",
     "text": [
      "Wronskian : \n"
     ]
    },
    {
     "data": {
      "text/latex": [
       "$\\displaystyle -2$"
      ],
      "text/plain": [
       "-2"
      ]
     },
     "metadata": {},
     "output_type": "display_data"
    },
    {
     "name": "stdout",
     "output_type": "stream",
     "text": [
      "solution by programming: \n"
     ]
    },
    {
     "data": {
      "text/latex": [
       "$\\displaystyle C_{1} + C_{2} e^{- t} + C_{3} e^{t} - \\frac{t^{2}}{2}$"
      ],
      "text/plain": [
       "                       2\n",
       "         -t       t   t \n",
       "C₁ + C₂⋅ℯ   + C₃⋅ℯ  - ──\n",
       "                      2 "
      ]
     },
     "metadata": {},
     "output_type": "display_data"
    },
    {
     "name": "stdout",
     "output_type": "stream",
     "text": [
      "solution by Variation of Parameters: \n"
     ]
    },
    {
     "data": {
      "text/latex": [
       "$\\displaystyle - \\frac{t^{2}}{2} - 1$"
      ],
      "text/plain": [
       "   2    \n",
       "  t     \n",
       "- ── - 1\n",
       "  2     "
      ]
     },
     "metadata": {},
     "output_type": "display_data"
    }
   ],
   "source": [
    "import sympy as sy\n",
    "from sympy import init_printing\n",
    "\n",
    "init_printing(use_latex='mathjax')\n",
    "t = sy.symbols('t')\n",
    "f = sy.Function('f')\n",
    "g = sy.Function('g')(t)\n",
    "g =t\n",
    "\n",
    "def make_wronskian(basis):\n",
    "    row = len(basis)\n",
    "    matrix = []  # 빈 행렬 생성\n",
    "    \n",
    "    basis_row = [basis[i] for i in range(row)]  # 각 기저 함수를 담은 리스트 생성\n",
    "    matrix.append(basis_row)\n",
    "    \n",
    "    for j in range(1, row):\n",
    "        basis_row = [sy.diff(base, t, j) for base in basis] # 각 기저 함수의 미분을 행렬에 추가\n",
    "        matrix.append(basis_row)  # 각 기저 함수 행을 행렬에 추가\n",
    " \n",
    "    wr = sy.Matrix(matrix).det()\n",
    "    \n",
    "    return wr.simplify()\n",
    "\n",
    "def W_m(col_number):\n",
    "    vector = [0] * len(basis)\n",
    "    vector[-1] = 1\n",
    "    row = len(basis)\n",
    "    matrix = []  # 빈 행렬 생성\n",
    "    \n",
    "    basis_row = [basis[i] for i in range(row)]  # 각 기저 함수를 담은 리스트 생성\n",
    "    matrix.append(basis_row)\n",
    "    \n",
    "    for j in range(1, row):\n",
    "        basis_row = [sy.diff(base, t, j) for base in basis] # 각 기저 함수의 미분을 행렬에 추가\n",
    "        matrix.append(basis_row)  # 각 기저 함수 행을 행렬에 추가\n",
    "    \n",
    "    for i in range(row):\n",
    "        matrix[i][col_number] = vector[i]\n",
    "    \n",
    "    wr = sy.Matrix(matrix).det()\n",
    "    \n",
    "    return wr\n",
    "\n",
    "def find_solution(basis, Wronskian):\n",
    "    sol = 0\n",
    "    \n",
    "    for i in range(len(basis)):\n",
    "        sol += basis[i]*sy.integrate(g* W_m(i)/Wronskian, t)\n",
    "    \n",
    "    return sol\n",
    "\n",
    "\n",
    "a = 1\n",
    "b = 0\n",
    "c = -1\n",
    "d = 0\n",
    "\n",
    "\n",
    "eq = sy.Eq(a*sy.diff(f(t), t, 3) + b * sy.diff(f(t), t, 2) +  c * sy.diff(f(t), t, 1) + d*f(t),g)\n",
    "characteristic_eq = a*t**3+b*t**2+c*t+d*t\n",
    "\n",
    "factors_list = sy.factor_list(characteristic_eq)[1]\n",
    "\n",
    "basis = []\n",
    "\n",
    "for factor in factors_list:\n",
    "    if factor[1] != 1:\n",
    "        solution = sy.solve(factor[0], t)\n",
    "        base = sy.exp(solution[0]*t)\n",
    "        basis.append(base)\n",
    "        \n",
    "        for i in range(factor[1]-1):\n",
    "            base = base*t\n",
    "            basis.append(base)\n",
    "        \n",
    "    else: \n",
    "        solutions = sy.solve(factor[0], t) \n",
    "        coeff_1 = abs(solutions[0].as_real_imag()[1])\n",
    "        coeff_2 = solutions[0].as_real_imag()[0]\n",
    "        if coeff_1 != 0: #허수부가 있을 경우\n",
    "            if coeff_2 != 0:\n",
    "                basis1 = sy.exp(coeff_2*t)* sy.cos(coeff_1*t)\n",
    "                basis2 = sy.exp(coeff_2*t)* sy.sin(coeff_1*t)\n",
    "            else:\n",
    "                basis1 = sy.cos(coeff_1*t)\n",
    "                basis2 = sy.sin(coeff_1*t)\n",
    "            basis.append(basis1)\n",
    "            basis.append(basis2)        \n",
    "        else: #허수부가 없을 경우\n",
    "            solutions = sy.solve(factor[0], t) \n",
    "            basis1 = sy.exp(solutions[0] * t)\n",
    "            basis.append(basis1)\n",
    "        \n",
    "Wronskian = make_wronskian(basis)\n",
    "\n",
    "if Wronskian == 0:\n",
    "    print(\"invalid!\")\n",
    "else:\n",
    "    print(\"Wronskian : \")\n",
    "    display(Wronskian)\n",
    "\n",
    "    sol = sy.dsolve(eq, f(t))\n",
    "\n",
    "    print(\"solution by programming: \")\n",
    "    display(sol.rhs)\n",
    "    \n",
    "    print(\"solution by Variation of Parameters: \")\n",
    "    display(find_solution(basis, Wronskian))\n",
    "    "
   ]
  },
  {
   "cell_type": "markdown",
   "id": "fd8361ec",
   "metadata": {},
   "source": [
    "C_1을 -1이 되게끔 t_0를 설정하면 양쪽 답이 같게 나옴을 알 수 있었습니다."
   ]
  },
  {
   "cell_type": "markdown",
   "id": "0a4bc868",
   "metadata": {},
   "source": []
  }
 ],
 "metadata": {
  "kernelspec": {
   "display_name": "Python 3 (ipykernel)",
   "language": "python",
   "name": "python3"
  },
  "language_info": {
   "codemirror_mode": {
    "name": "ipython",
    "version": 3
   },
   "file_extension": ".py",
   "mimetype": "text/x-python",
   "name": "python",
   "nbconvert_exporter": "python",
   "pygments_lexer": "ipython3",
   "version": "3.9.12"
  }
 },
 "nbformat": 4,
 "nbformat_minor": 5
}
